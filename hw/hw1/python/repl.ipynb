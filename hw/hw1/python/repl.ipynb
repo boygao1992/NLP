{
 "cells": [
  {
   "cell_type": "code",
   "execution_count": 142,
   "metadata": {},
   "outputs": [
    {
     "data": {
      "text/plain": [
       "[('START', 'START', 'START', 'START', 'natural'),\n",
       " ('START', 'START', 'START', 'natural', 'language'),\n",
       " ('START', 'START', 'natural', 'language', 'processing'),\n",
       " ('START', 'natural', 'language', 'processing', 'STOP')]"
      ]
     },
     "execution_count": 142,
     "metadata": {},
     "output_type": "execute_result"
    }
   ],
   "source": [
    "from itertools import accumulate\n",
    "sequence = [\"natural\", \"language\", \"processing\"]\n",
    "n = 3\n",
    "\n",
    "def get_ngrams(sequence, n):\n",
    "    assert isinstance(sequence, list)\n",
    "    assert isinstance(n, int) and n >= 1\n",
    "    wrapped_in_tuples = map(lambda x: (x,), sequence)\n",
    "    duplicated = accumulate(wrapped_in_tuples, lambda tuple1, tuple2: tuple1 + tuple2)\n",
    "    filled_with_starts = map(lambda t: fill_with_starts_at_beginning(t,n), duplicated)\n",
    "    trimed = list(map(lambda t: trim_tuple_head(t,n), filled_with_starts))\n",
    "    stop_tuple = trim_tuple_head(trimed[-1] + (\"STOP\",), n)\n",
    "    if (n > 1):\n",
    "        return trimed + [stop_tuple]\n",
    "    else:\n",
    "        return [(\"START\",)] + trimed + [stop_tuple]\n",
    "\n",
    "get_ngrams(sequence, 5)"
   ]
  },
  {
   "cell_type": "code",
   "execution_count": 68,
   "metadata": {},
   "outputs": [
    {
     "data": {
      "text/plain": [
       "('natural',)"
      ]
     },
     "execution_count": 68,
     "metadata": {},
     "output_type": "execute_result"
    }
   ],
   "source": [
    "def fill_with_starts_at_beginning(t,n):\n",
    "    assert isinstance(t, tuple)\n",
    "    return ((\"START\",)*(n-len(t))) + t\n",
    "fill_with_starts_at_beginning((\"natural\",), -1)"
   ]
  },
  {
   "cell_type": "code",
   "execution_count": 112,
   "metadata": {},
   "outputs": [
    {
     "data": {
      "text/plain": [
       "('2', '3')"
      ]
     },
     "execution_count": 112,
     "metadata": {},
     "output_type": "execute_result"
    }
   ],
   "source": [
    "def trim_tuple_head(t, n):\n",
    "    if (len(t) > n):\n",
    "        return t[(len(t) - n):]\n",
    "    else:\n",
    "        return t\n",
    "\n",
    "trim_tuple_head((\"1\",\"2\",\"3\",), 2)"
   ]
  }
 ],
 "metadata": {
  "kernelspec": {
   "display_name": "Python 3",
   "language": "python",
   "name": "python3"
  },
  "language_info": {
   "codemirror_mode": {
    "name": "ipython",
    "version": 3
   },
   "file_extension": ".py",
   "mimetype": "text/x-python",
   "name": "python",
   "nbconvert_exporter": "python",
   "pygments_lexer": "ipython3",
   "version": "3.6.3"
  }
 },
 "nbformat": 4,
 "nbformat_minor": 2
}
