{
 "cells": [
  {
   "cell_type": "code",
   "execution_count": 11,
   "metadata": {},
   "outputs": [
    {
     "data": {
      "text/plain": [
       "[('START', 'START', 'START', 'START', 'natural'),\n",
       " ('START', 'START', 'START', 'natural', 'language'),\n",
       " ('START', 'START', 'natural', 'language', 'processing'),\n",
       " ('START', 'natural', 'language', 'processing', 'STOP')]"
      ]
     },
     "execution_count": 11,
     "metadata": {},
     "output_type": "execute_result"
    }
   ],
   "source": [
    "from itertools import accumulate\n",
    "sequence = [\"natural\", \"language\", \"processing\"]\n",
    "n = 3\n",
    "\n",
    "def get_ngrams(sequence, n):\n",
    "    assert isinstance(sequence, list)\n",
    "    assert isinstance(n, int) and n >= 1\n",
    "    wrapped_in_tuples = map(lambda x: (x,), sequence)\n",
    "    duplicated = accumulate(wrapped_in_tuples, lambda tuple1, tuple2: tuple1 + tuple2)\n",
    "    filled_with_starts = map(lambda t: fill_with_starts_at_beginning(t,n), duplicated)\n",
    "    trimed = list(map(lambda t: trim_tuple_head(t,n), filled_with_starts))\n",
    "    stop_tuple = trim_tuple_head(trimed[-1] + (\"STOP\",), n)\n",
    "    if (n > 1):\n",
    "        return trimed + [stop_tuple]\n",
    "    else:\n",
    "        return [(\"START\",)] + trimed + [stop_tuple]\n",
    "\n",
    "get_ngrams(sequence, 5)"
   ]
  },
  {
   "cell_type": "code",
   "execution_count": 9,
   "metadata": {},
   "outputs": [
    {
     "data": {
      "text/plain": [
       "('natural',)"
      ]
     },
     "execution_count": 9,
     "metadata": {},
     "output_type": "execute_result"
    }
   ],
   "source": [
    "def fill_with_starts_at_beginning(t,n):\n",
    "    assert isinstance(t, tuple)\n",
    "    return ((\"START\",)*(n-len(t))) + t\n",
    "fill_with_starts_at_beginning((\"natural\",), -1)"
   ]
  },
  {
   "cell_type": "code",
   "execution_count": 10,
   "metadata": {},
   "outputs": [
    {
     "data": {
      "text/plain": [
       "('2', '3')"
      ]
     },
     "execution_count": 10,
     "metadata": {},
     "output_type": "execute_result"
    }
   ],
   "source": [
    "def trim_tuple_head(t, n):\n",
    "    if (len(t) > n):\n",
    "        return t[(len(t) - n):]\n",
    "    else:\n",
    "        return t\n",
    "\n",
    "trim_tuple_head((\"1\",\"2\",\"3\",), 2)"
   ]
  },
  {
   "cell_type": "markdown",
   "metadata": {},
   "source": [
    "# Part 2"
   ]
  },
  {
   "cell_type": "code",
   "execution_count": 5,
   "metadata": {},
   "outputs": [
    {
     "data": {
      "text/plain": [
       "Counter({'A': 3, 'B': 3, 'language': 1, 'natural': 2, 'processing': 1})"
      ]
     },
     "execution_count": 5,
     "metadata": {},
     "output_type": "execute_result"
    }
   ],
   "source": [
    "from collections import Counter, defaultdict\n",
    "data = [\"natural\", \"language\", \"processing\", \"natural\"\n",
    "       , \"A\", \"B\", \"A\", \"B\", \"B\", \"A\"]\n",
    "\n",
    "Counter(data)"
   ]
  },
  {
   "cell_type": "code",
   "execution_count": 7,
   "metadata": {},
   "outputs": [
    {
     "data": {
      "text/plain": [
       "defaultdict(int,\n",
       "            {'A': 3, 'B': 3, 'language': 1, 'natural': 2, 'processing': 1})"
      ]
     },
     "execution_count": 7,
     "metadata": {},
     "output_type": "execute_result"
    }
   ],
   "source": [
    "unigramcounts = defaultdict(int)\n",
    "\n",
    "for word in data:\n",
    "    unigramcounts[word] += 1\n",
    "unigramcounts"
   ]
  },
  {
   "cell_type": "code",
   "execution_count": 14,
   "metadata": {},
   "outputs": [
    {
     "data": {
      "text/plain": [
       "[('START', 'natural'),\n",
       " ('natural', 'language'),\n",
       " ('language', 'processing'),\n",
       " ('processing', 'natural'),\n",
       " ('natural', 'A'),\n",
       " ('A', 'B'),\n",
       " ('B', 'A'),\n",
       " ('A', 'B'),\n",
       " ('B', 'B'),\n",
       " ('B', 'A'),\n",
       " ('A', 'STOP')]"
      ]
     },
     "execution_count": 14,
     "metadata": {},
     "output_type": "execute_result"
    }
   ],
   "source": [
    "bigrams = get_ngrams(data, 2)\n",
    "bigrams"
   ]
  },
  {
   "cell_type": "code",
   "execution_count": 17,
   "metadata": {},
   "outputs": [
    {
     "data": {
      "text/plain": [
       "Counter({('A', 'B'): 2,\n",
       "         ('A', 'STOP'): 1,\n",
       "         ('B', 'A'): 2,\n",
       "         ('B', 'B'): 1,\n",
       "         ('START', 'natural'): 1,\n",
       "         ('language', 'processing'): 1,\n",
       "         ('natural', 'A'): 1,\n",
       "         ('natural', 'language'): 1,\n",
       "         ('processing', 'natural'): 1})"
      ]
     },
     "execution_count": 17,
     "metadata": {},
     "output_type": "execute_result"
    }
   ],
   "source": [
    "Counter(bigrams)"
   ]
  },
  {
   "cell_type": "code",
   "execution_count": 18,
   "metadata": {},
   "outputs": [
    {
     "data": {
      "text/plain": [
       "[('START', 'START', 'natural'),\n",
       " ('START', 'natural', 'language'),\n",
       " ('natural', 'language', 'processing'),\n",
       " ('language', 'processing', 'natural'),\n",
       " ('processing', 'natural', 'A'),\n",
       " ('natural', 'A', 'B'),\n",
       " ('A', 'B', 'A'),\n",
       " ('B', 'A', 'B'),\n",
       " ('A', 'B', 'B'),\n",
       " ('B', 'B', 'A'),\n",
       " ('B', 'A', 'STOP')]"
      ]
     },
     "execution_count": 18,
     "metadata": {},
     "output_type": "execute_result"
    }
   ],
   "source": [
    "trigrams = get_ngrams(data, 3)\n",
    "trigrams"
   ]
  },
  {
   "cell_type": "code",
   "execution_count": 19,
   "metadata": {},
   "outputs": [
    {
     "data": {
      "text/plain": [
       "Counter({('A', 'B', 'A'): 1,\n",
       "         ('A', 'B', 'B'): 1,\n",
       "         ('B', 'A', 'B'): 1,\n",
       "         ('B', 'A', 'STOP'): 1,\n",
       "         ('B', 'B', 'A'): 1,\n",
       "         ('START', 'START', 'natural'): 1,\n",
       "         ('START', 'natural', 'language'): 1,\n",
       "         ('language', 'processing', 'natural'): 1,\n",
       "         ('natural', 'A', 'B'): 1,\n",
       "         ('natural', 'language', 'processing'): 1,\n",
       "         ('processing', 'natural', 'A'): 1})"
      ]
     },
     "execution_count": 19,
     "metadata": {},
     "output_type": "execute_result"
    }
   ],
   "source": [
    "Counter(trigrams)"
   ]
  },
  {
   "cell_type": "code",
   "execution_count": 24,
   "metadata": {},
   "outputs": [
    {
     "data": {
      "text/plain": [
       "Counter({('A', 'B', 'A'): 3,\n",
       "         ('B', 'A', 'B'): 2,\n",
       "         ('B', 'A', 'STOP'): 1,\n",
       "         ('START', 'A', 'B'): 1,\n",
       "         ('START', 'START', 'A'): 1})"
      ]
     },
     "execution_count": 24,
     "metadata": {},
     "output_type": "execute_result"
    }
   ],
   "source": [
    "data = [\"A\", \"B\", \"A\", \"B\", \"A\", \"B\", \"A\"]\n",
    "trigrams = get_ngrams(data, 3)\n",
    "Counter() + Counter(trigrams)"
   ]
  },
  {
   "cell_type": "code",
   "execution_count": 54,
   "metadata": {},
   "outputs": [],
   "source": [
    "corpus = [ [\"A\", \"B\", \"A\", \"B\", \"A\", \"B\", \"A\"]\n",
    "         , [\"A\", \"B\", \"A\", \"B\", \"A\", \"B\", \"A\"]\n",
    "         , [\"A\", \"B\", \"A\", \"B\", \"A\", \"B\", \"A\"]\n",
    "         ]\n",
    "unigramcounts = Counter()\n",
    "bigramcounts = Counter()\n",
    "trigramcounts = Counter()\n",
    "\n",
    "for sentence in corpus:\n",
    "    unigramcounts += Counter(get_ngrams(sentence, 1))\n",
    "    bigramcounts += Counter(get_ngrams(sentence, 2))\n",
    "    trigramcounts += Counter(get_ngrams(sentence, 3))\n"
   ]
  },
  {
   "cell_type": "code",
   "execution_count": 55,
   "metadata": {},
   "outputs": [
    {
     "data": {
      "text/plain": [
       "Counter({('A',): 12, ('B',): 9, ('START',): 3, ('STOP',): 3})"
      ]
     },
     "execution_count": 55,
     "metadata": {},
     "output_type": "execute_result"
    }
   ],
   "source": [
    "unigramcounts"
   ]
  },
  {
   "cell_type": "code",
   "execution_count": 56,
   "metadata": {},
   "outputs": [],
   "source": [
    "corpus = [ [\"A\", \"B\", \"A\", \"B\", \"A\", \"B\", \"A\"]\n",
    "         , [\"A\", \"B\", \"A\", \"B\", \"A\", \"B\", \"A\"]\n",
    "         , [\"A\", \"B\", \"A\", \"B\", \"A\", \"B\", \"A\"]\n",
    "         ]\n",
    "unigramcounts = Counter()\n",
    "bigramcounts = Counter()\n",
    "trigramcounts = Counter()\n",
    "\n",
    "for sentence in corpus:\n",
    "    unigramcounts += Counter([t for t in get_ngrams(sentence, 1) if t not in [(\"START\",), (\"STOP\",)]])\n",
    "    bigramcounts += Counter(get_ngrams(sentence, 2))\n",
    "    trigramcounts += Counter(get_ngrams(sentence, 3))\n"
   ]
  },
  {
   "cell_type": "code",
   "execution_count": 57,
   "metadata": {},
   "outputs": [
    {
     "data": {
      "text/plain": [
       "Counter({('A',): 12, ('B',): 9})"
      ]
     },
     "execution_count": 57,
     "metadata": {},
     "output_type": "execute_result"
    }
   ],
   "source": [
    "unigramcounts"
   ]
  },
  {
   "cell_type": "code",
   "execution_count": 32,
   "metadata": {},
   "outputs": [
    {
     "data": {
      "text/plain": [
       "Counter({('A', 'B'): 9, ('A', 'STOP'): 3, ('B', 'A'): 9, ('START', 'A'): 3})"
      ]
     },
     "execution_count": 32,
     "metadata": {},
     "output_type": "execute_result"
    }
   ],
   "source": [
    "bigramcounts"
   ]
  },
  {
   "cell_type": "code",
   "execution_count": 33,
   "metadata": {},
   "outputs": [
    {
     "data": {
      "text/plain": [
       "Counter({('A', 'B', 'A'): 9,\n",
       "         ('B', 'A', 'B'): 6,\n",
       "         ('B', 'A', 'STOP'): 3,\n",
       "         ('START', 'A', 'B'): 3,\n",
       "         ('START', 'START', 'A'): 3})"
      ]
     },
     "execution_count": 33,
     "metadata": {},
     "output_type": "execute_result"
    }
   ],
   "source": [
    "trigramcounts"
   ]
  },
  {
   "cell_type": "code",
   "execution_count": 34,
   "metadata": {},
   "outputs": [
    {
     "data": {
      "text/plain": [
       "9"
      ]
     },
     "execution_count": 34,
     "metadata": {},
     "output_type": "execute_result"
    }
   ],
   "source": [
    "trigramcounts[('A', 'B', 'A')]"
   ]
  },
  {
   "cell_type": "code",
   "execution_count": 42,
   "metadata": {},
   "outputs": [
    {
     "data": {
      "text/plain": [
       "dict_values([3, 12, 9, 3])"
      ]
     },
     "execution_count": 42,
     "metadata": {},
     "output_type": "execute_result"
    }
   ],
   "source": [
    "unigramcounts.values()"
   ]
  },
  {
   "cell_type": "code",
   "execution_count": 48,
   "metadata": {},
   "outputs": [
    {
     "data": {
      "text/plain": [
       "21"
      ]
     },
     "execution_count": 48,
     "metadata": {},
     "output_type": "execute_result"
    }
   ],
   "source": [
    "sum(unigramcounts.values()) - unigramcounts[(\"START\",)] - unigramcounts[(\"STOP\",)]"
   ]
  },
  {
   "cell_type": "code",
   "execution_count": 59,
   "metadata": {},
   "outputs": [
    {
     "data": {
      "text/plain": [
       "0.5714285714285714"
      ]
     },
     "execution_count": 59,
     "metadata": {},
     "output_type": "execute_result"
    }
   ],
   "source": [
    "unigramcounts[(\"A\",)] / sum(unigramcounts.values())"
   ]
  },
  {
   "cell_type": "code",
   "execution_count": 66,
   "metadata": {},
   "outputs": [
    {
     "data": {
      "text/plain": [
       "-17.24511249783653"
      ]
     },
     "execution_count": 66,
     "metadata": {},
     "output_type": "execute_result"
    }
   ],
   "source": [
    "import math\n",
    "sum(map(lambda t: math.log2(trigramcounts[t] / sum(trigramcounts.values())), get_ngrams(data,3)))"
   ]
  },
  {
   "cell_type": "code",
   "execution_count": 69,
   "metadata": {},
   "outputs": [
    {
     "data": {
      "text/plain": [
       "2"
      ]
     },
     "execution_count": 69,
     "metadata": {},
     "output_type": "execute_result"
    }
   ],
   "source": [
    "len(unigramcounts)"
   ]
  }
 ],
 "metadata": {
  "kernelspec": {
   "display_name": "Python 3",
   "language": "python",
   "name": "python3"
  },
  "language_info": {
   "codemirror_mode": {
    "name": "ipython",
    "version": 3
   },
   "file_extension": ".py",
   "mimetype": "text/x-python",
   "name": "python",
   "nbconvert_exporter": "python",
   "pygments_lexer": "ipython3",
   "version": "3.6.3"
  }
 },
 "nbformat": 4,
 "nbformat_minor": 2
}
