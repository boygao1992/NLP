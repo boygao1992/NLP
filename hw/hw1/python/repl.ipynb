{
 "cells": [
  {
   "cell_type": "code",
   "execution_count": null,
   "metadata": {},
   "outputs": [],
   "source": [
    "from itertools import accumulate\n",
    "sequence = [\"natural\", \"language\", \"processing\"]\n",
    "n = 3\n",
    "\n",
    "def get_ngrams(sequence, n):\n",
    "    assert isinstance(sequence, list)\n",
    "    assert isinstance(n, int) and n >= 1\n",
    "    wrapped_in_tuples = map(lambda x: (x,), sequence)\n",
    "    duplicated = accumulate(wrapped_in_tuples, lambda tuple1, tuple2: tuple1 + tuple2)\n",
    "    filled_with_starts = map(lambda t: fill_with_starts_at_beginning(t,n), duplicated)\n",
    "    trimed = list(map(lambda t: trim_tuple_head(t,n), filled_with_starts))\n",
    "    stop_tuple = trim_tuple_head(trimed[-1] + (\"STOP\",), n)\n",
    "    if (n > 1):\n",
    "        return trimed + [stop_tuple]\n",
    "    else:\n",
    "        return [(\"START\",)] + trimed + [stop_tuple]\n",
    "\n",
    "get_ngrams(sequence, 5)"
   ]
  },
  {
   "cell_type": "code",
   "execution_count": null,
   "metadata": {},
   "outputs": [],
   "source": [
    "def fill_with_starts_at_beginning(t,n):\n",
    "    assert isinstance(t, tuple)\n",
    "    return ((\"START\",)*(n-len(t))) + t\n",
    "fill_with_starts_at_beginning((\"natural\",), -1)"
   ]
  },
  {
   "cell_type": "code",
   "execution_count": null,
   "metadata": {},
   "outputs": [],
   "source": [
    "def trim_tuple_head(t, n):\n",
    "    if (len(t) > n):\n",
    "        return t[(len(t) - n):]\n",
    "    else:\n",
    "        return t\n",
    "\n",
    "trim_tuple_head((\"1\",\"2\",\"3\",), 2)"
   ]
  },
  {
   "cell_type": "markdown",
   "metadata": {},
   "source": [
    "# Part 2"
   ]
  },
  {
   "cell_type": "code",
   "execution_count": null,
   "metadata": {},
   "outputs": [],
   "source": [
    "from collections import Counter, defaultdict\n",
    "data = [\"natural\", \"language\", \"processing\", \"natural\"\n",
    "       , \"A\", \"B\", \"A\", \"B\", \"B\", \"A\"]\n",
    "\n",
    "Counter(data)"
   ]
  },
  {
   "cell_type": "code",
   "execution_count": null,
   "metadata": {},
   "outputs": [],
   "source": [
    "unigramcounts = defaultdict(int)\n",
    "\n",
    "for word in data:\n",
    "    unigramcounts[word] += 1\n",
    "unigramcounts"
   ]
  },
  {
   "cell_type": "code",
   "execution_count": null,
   "metadata": {},
   "outputs": [],
   "source": [
    "bigrams = get_ngrams(data, 2)\n",
    "bigrams"
   ]
  },
  {
   "cell_type": "code",
   "execution_count": null,
   "metadata": {},
   "outputs": [],
   "source": [
    "Counter(bigrams)"
   ]
  },
  {
   "cell_type": "code",
   "execution_count": null,
   "metadata": {},
   "outputs": [],
   "source": [
    "trigrams = get_ngrams(data, 3)\n",
    "trigrams"
   ]
  },
  {
   "cell_type": "code",
   "execution_count": null,
   "metadata": {},
   "outputs": [],
   "source": [
    "Counter(trigrams)"
   ]
  },
  {
   "cell_type": "code",
   "execution_count": null,
   "metadata": {},
   "outputs": [],
   "source": [
    "data = [\"A\", \"B\", \"A\", \"B\", \"A\", \"B\", \"A\"]\n",
    "trigrams = get_ngrams(data, 3)\n",
    "Counter() + Counter(trigrams)"
   ]
  },
  {
   "cell_type": "code",
   "execution_count": null,
   "metadata": {},
   "outputs": [],
   "source": [
    "corpus = [ [\"A\", \"B\", \"A\", \"B\", \"A\", \"B\", \"A\"]\n",
    "         , [\"A\", \"B\", \"A\", \"B\", \"A\", \"B\", \"A\"]\n",
    "         , [\"A\", \"B\", \"A\", \"B\", \"A\", \"B\", \"A\"]\n",
    "         ]\n",
    "unigramcounts = Counter()\n",
    "bigramcounts = Counter()\n",
    "trigramcounts = Counter()\n",
    "\n",
    "for sentence in corpus:\n",
    "    unigramcounts += Counter(get_ngrams(sentence, 1))\n",
    "    bigramcounts += Counter(get_ngrams(sentence, 2))\n",
    "    trigramcounts += Counter(get_ngrams(sentence, 3))\n"
   ]
  },
  {
   "cell_type": "code",
   "execution_count": null,
   "metadata": {},
   "outputs": [],
   "source": [
    "unigramcounts"
   ]
  },
  {
   "cell_type": "code",
   "execution_count": null,
   "metadata": {},
   "outputs": [],
   "source": [
    "corpus = [ [\"A\", \"B\", \"A\", \"B\", \"A\", \"B\", \"A\"]\n",
    "         , [\"A\", \"B\", \"A\", \"B\", \"A\", \"B\", \"A\"]\n",
    "         , [\"A\", \"B\", \"A\", \"B\", \"A\", \"B\", \"A\"]\n",
    "         ]\n",
    "unigramcounts = Counter()\n",
    "bigramcounts = Counter()\n",
    "trigramcounts = Counter()\n",
    "\n",
    "for sentence in corpus:\n",
    "    unigramcounts += Counter([t for t in get_ngrams(sentence, 1) if t not in [(\"START\",), (\"STOP\",)]])\n",
    "    bigramcounts += Counter(get_ngrams(sentence, 2))\n",
    "    trigramcounts += Counter(get_ngrams(sentence, 3))\n"
   ]
  },
  {
   "cell_type": "code",
   "execution_count": null,
   "metadata": {},
   "outputs": [],
   "source": [
    "unigramcounts"
   ]
  },
  {
   "cell_type": "code",
   "execution_count": null,
   "metadata": {},
   "outputs": [],
   "source": [
    "bigramcounts"
   ]
  },
  {
   "cell_type": "code",
   "execution_count": null,
   "metadata": {},
   "outputs": [],
   "source": [
    "trigramcounts"
   ]
  },
  {
   "cell_type": "code",
   "execution_count": null,
   "metadata": {},
   "outputs": [],
   "source": [
    "trigramcounts[('A', 'B', 'A')]"
   ]
  },
  {
   "cell_type": "code",
   "execution_count": null,
   "metadata": {},
   "outputs": [],
   "source": [
    "unigramcounts.values()"
   ]
  },
  {
   "cell_type": "code",
   "execution_count": null,
   "metadata": {},
   "outputs": [],
   "source": [
    "sum(unigramcounts.values()) - unigramcounts[(\"START\",)] - unigramcounts[(\"STOP\",)]"
   ]
  },
  {
   "cell_type": "code",
   "execution_count": null,
   "metadata": {},
   "outputs": [],
   "source": [
    "unigramcounts[(\"A\",)] / sum(unigramcounts.values())"
   ]
  },
  {
   "cell_type": "code",
   "execution_count": null,
   "metadata": {},
   "outputs": [],
   "source": [
    "import math\n",
    "sum(map(lambda t: math.log2(trigramcounts[t] / sum(trigramcounts.values())), get_ngrams(data,3)))"
   ]
  },
  {
   "cell_type": "code",
   "execution_count": null,
   "metadata": {},
   "outputs": [],
   "source": [
    "len(unigramcounts)"
   ]
  },
  {
   "cell_type": "markdown",
   "metadata": {},
   "source": [
    "# imperative implementation for speed"
   ]
  },
  {
   "cell_type": "code",
   "execution_count": 2,
   "metadata": {},
   "outputs": [],
   "source": [
    "sequence = [\"natural\", \"language\", \"processing\"]"
   ]
  },
  {
   "cell_type": "code",
   "execution_count": 86,
   "metadata": {},
   "outputs": [],
   "source": [
    "def get_ngrams(sequence, n):\n",
    "    result = []\n",
    "    length = len(sequence)\n",
    "    if n > 1:\n",
    "        for i in range(length):\n",
    "            if i > 0:\n",
    "                result.append(result[i-1][-(n-1):] + (sequence[i],))\n",
    "            else:\n",
    "                result.append((sequence[0],))\n",
    "        for i in range(length):\n",
    "            result[i] = ((\"START\",)*(n - i - 1) + result[i])\n",
    "        result.append(result[length-1][-(n-1):] + (\"STOP\",))\n",
    "    else:\n",
    "        for word in sequence:\n",
    "            result.append((word,))\n",
    "        result.append((\"STOP\",))\n",
    "    \n",
    "    if n == 1:\n",
    "        result = [(\"START\",)] + result\n",
    "    \n",
    "    return result\n"
   ]
  },
  {
   "cell_type": "code",
   "execution_count": 97,
   "metadata": {},
   "outputs": [
    {
     "data": {
      "text/plain": [
       "Counter({('language',): 1, ('natural',): 1, ('processing',): 1})"
      ]
     },
     "execution_count": 97,
     "metadata": {},
     "output_type": "execute_result"
    }
   ],
   "source": [
    "from collections import Counter\n",
    "\n",
    "count = Counter(get_ngrams(sequence,1))\n",
    "del count[(\"START\",)]\n",
    "del count[(\"STOP\",)]\n",
    "count"
   ]
  },
  {
   "cell_type": "markdown",
   "metadata": {},
   "source": [
    "# Classification"
   ]
  },
  {
   "cell_type": "code",
   "execution_count": null,
   "metadata": {},
   "outputs": [],
   "source": [
    "from trigram_model import *\n"
   ]
  },
  {
   "cell_type": "code",
   "execution_count": null,
   "metadata": {},
   "outputs": [],
   "source": [
    "trigramModel = TrigramModel(\"./hw1_data/brown_train.txt\")"
   ]
  }
 ],
 "metadata": {
  "kernelspec": {
   "display_name": "Python 3",
   "language": "python",
   "name": "python3"
  },
  "language_info": {
   "codemirror_mode": {
    "name": "ipython",
    "version": 3
   },
   "file_extension": ".py",
   "mimetype": "text/x-python",
   "name": "python",
   "nbconvert_exporter": "python",
   "pygments_lexer": "ipython3",
   "version": "3.6.3"
  }
 },
 "nbformat": 4,
 "nbformat_minor": 2
}
